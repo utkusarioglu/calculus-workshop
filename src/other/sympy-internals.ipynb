{
 "cells": [
  {
   "cell_type": "code",
   "execution_count": 2,
   "metadata": {},
   "outputs": [],
   "source": [
    "from sympy import symbols, preorder_traversal, postorder_traversal"
   ]
  },
  {
   "cell_type": "code",
   "execution_count": 3,
   "metadata": {},
   "outputs": [],
   "source": [
    "x, y = symbols(\"x y\")"
   ]
  },
  {
   "cell_type": "code",
   "execution_count": 7,
   "metadata": {},
   "outputs": [
    {
     "name": "stdout",
     "output_type": "stream",
     "text": [
      "preorder_traversal\n",
      "2**x + 3*x\n",
      "2**x\n",
      "2\n",
      "x\n",
      "3*x\n",
      "3\n",
      "x\n",
      "postorder_traversal\n",
      "2\n",
      "x\n",
      "2**x\n",
      "3\n",
      "x\n",
      "3*x\n",
      "2**x + 3*x\n"
     ]
    }
   ],
   "source": [
    "exp = 2**x +3*x\n",
    "print(\"preorder_traversal\")\n",
    "for arg in preorder_traversal(exp):\n",
    "    print(arg)\n",
    "print(\"postorder_traversal\")\n",
    "for arg in postorder_traversal(exp):\n",
    "    print(arg)\n"
   ]
  }
 ],
 "metadata": {
  "kernelspec": {
   "display_name": "Python 3.10.11 64-bit ('default')",
   "language": "python",
   "name": "python3"
  },
  "language_info": {
   "codemirror_mode": {
    "name": "ipython",
    "version": 3
   },
   "file_extension": ".py",
   "mimetype": "text/x-python",
   "name": "python",
   "nbconvert_exporter": "python",
   "pygments_lexer": "ipython3",
   "version": "3.10.11"
  },
  "orig_nbformat": 4,
  "vscode": {
   "interpreter": {
    "hash": "b19c504e0abe9af0b80e78d873495a79ef781516362c519732adc3cb489b6869"
   }
  }
 },
 "nbformat": 4,
 "nbformat_minor": 2
}
